{
  "cells": [
    {
      "cell_type": "markdown",
      "metadata": {
        "id": "BV8z7IdvX60_"
      },
      "source": [
        "# Disentanglement Provides a Unified Estimation for Quantum Entropies and Distance Measures (Code)\n",
        "\n",
        "Myeongjin Shin, Seungwoo Lee, Junseo Lee, Mingyu Lee, Donghwa Ji, Hyeonjun Yeo, Kabgyun Jeong\n",
        "\n",
        "Paper link: [Arxiv](https://arxiv.org/abs/2401.07716)"
      ]
    },
    {
      "cell_type": "markdown",
      "source": [
        "This is a code for using new ansatz, which is free from barren plateaus."
      ],
      "metadata": {
        "id": "VQGNZT_DZQ7U"
      }
    },
    {
      "cell_type": "markdown",
      "metadata": {
        "id": "vy9TyWaZZHTe"
      },
      "source": [
        "## Environment Setup & Imports"
      ]
    },
    {
      "cell_type": "code",
      "execution_count": 1,
      "metadata": {
        "id": "al6WvIXQZfVn",
        "colab": {
          "base_uri": "https://localhost:8080/"
        },
        "outputId": "ae275872-cf6d-4a31-fc93-c2f72329da99"
      },
      "outputs": [
        {
          "output_type": "stream",
          "name": "stdout",
          "text": [
            "\u001b[?25l   \u001b[90m━━━━━━━━━━━━━━━━━━━━━━━━━━━━━━━━━━━━━━━━\u001b[0m \u001b[32m0.0/5.4 MB\u001b[0m \u001b[31m?\u001b[0m eta \u001b[36m-:--:--\u001b[0m\r\u001b[2K   \u001b[91m━━━━━━━━━━━━━━━━━━━━━\u001b[0m\u001b[90m╺\u001b[0m\u001b[90m━━━━━━━━━━━━━━━━━━\u001b[0m \u001b[32m2.9/5.4 MB\u001b[0m \u001b[31m82.3 MB/s\u001b[0m eta \u001b[36m0:00:01\u001b[0m\r\u001b[2K   \u001b[91m━━━━━━━━━━━━━━━━━━━━━━━━━━━━━━━━━━━━━━━\u001b[0m\u001b[91m╸\u001b[0m \u001b[32m5.4/5.4 MB\u001b[0m \u001b[31m106.2 MB/s\u001b[0m eta \u001b[36m0:00:01\u001b[0m\r\u001b[2K   \u001b[90m━━━━━━━━━━━━━━━━━━━━━━━━━━━━━━━━━━━━━━━━\u001b[0m \u001b[32m5.4/5.4 MB\u001b[0m \u001b[31m69.8 MB/s\u001b[0m eta \u001b[36m0:00:00\u001b[0m\n",
            "\u001b[?25h\u001b[?25l   \u001b[90m━━━━━━━━━━━━━━━━━━━━━━━━━━━━━━━━━━━━━━━━\u001b[0m \u001b[32m0.0/116.3 kB\u001b[0m \u001b[31m?\u001b[0m eta \u001b[36m-:--:--\u001b[0m\r\u001b[2K   \u001b[90m━━━━━━━━━━━━━━━━━━━━━━━━━━━━━━━━━━━━━━━━\u001b[0m \u001b[32m116.3/116.3 kB\u001b[0m \u001b[31m10.7 MB/s\u001b[0m eta \u001b[36m0:00:00\u001b[0m\n",
            "\u001b[?25h\u001b[?25l   \u001b[90m━━━━━━━━━━━━━━━━━━━━━━━━━━━━━━━━━━━━━━━━\u001b[0m \u001b[32m0.0/49.6 kB\u001b[0m \u001b[31m?\u001b[0m eta \u001b[36m-:--:--\u001b[0m\r\u001b[2K   \u001b[90m━━━━━━━━━━━━━━━━━━━━━━━━━━━━━━━━━━━━━━━━\u001b[0m \u001b[32m49.6/49.6 kB\u001b[0m \u001b[31m4.0 MB/s\u001b[0m eta \u001b[36m0:00:00\u001b[0m\n",
            "\u001b[?25h\u001b[?25l   \u001b[90m━━━━━━━━━━━━━━━━━━━━━━━━━━━━━━━━━━━━━━━━\u001b[0m \u001b[32m0.0/2.0 MB\u001b[0m \u001b[31m?\u001b[0m eta \u001b[36m-:--:--\u001b[0m\r\u001b[2K   \u001b[90m━━━━━━━━━━━━━━━━━━━━━━━━━━━━━━━━━━━━━━━━\u001b[0m \u001b[32m2.0/2.0 MB\u001b[0m \u001b[31m79.0 MB/s\u001b[0m eta \u001b[36m0:00:00\u001b[0m\n",
            "\u001b[2K   \u001b[90m━━━━━━━━━━━━━━━━━━━━━━━━━━━━━━━━━━━━━━━━\u001b[0m \u001b[32m49.7/49.7 kB\u001b[0m \u001b[31m4.3 MB/s\u001b[0m eta \u001b[36m0:00:00\u001b[0m\n",
            "\u001b[2K   \u001b[90m━━━━━━━━━━━━━━━━━━━━━━━━━━━━━━━━━━━━━━━━\u001b[0m \u001b[32m39.4/39.4 MB\u001b[0m \u001b[31m16.4 MB/s\u001b[0m eta \u001b[36m0:00:00\u001b[0m\n",
            "\u001b[2K   \u001b[90m━━━━━━━━━━━━━━━━━━━━━━━━━━━━━━━━━━━━━━━━\u001b[0m \u001b[32m108.5/108.5 kB\u001b[0m \u001b[31m8.7 MB/s\u001b[0m eta \u001b[36m0:00:00\u001b[0m\n",
            "\u001b[2K   \u001b[90m━━━━━━━━━━━━━━━━━━━━━━━━━━━━━━━━━━━━━━━━\u001b[0m \u001b[32m1.8/1.8 MB\u001b[0m \u001b[31m20.8 MB/s\u001b[0m eta \u001b[36m0:00:00\u001b[0m\n",
            "\u001b[2K   \u001b[90m━━━━━━━━━━━━━━━━━━━━━━━━━━━━━━━━━━━━━━━━\u001b[0m \u001b[32m51.0/51.0 kB\u001b[0m \u001b[31m2.7 MB/s\u001b[0m eta \u001b[36m0:00:00\u001b[0m\n",
            "\u001b[2K   \u001b[90m━━━━━━━━━━━━━━━━━━━━━━━━━━━━━━━━━━━━━━━━\u001b[0m \u001b[32m15.3/15.3 MB\u001b[0m \u001b[31m53.4 MB/s\u001b[0m eta \u001b[36m0:00:00\u001b[0m\n",
            "\u001b[2K   \u001b[90m━━━━━━━━━━━━━━━━━━━━━━━━━━━━━━━━━━━━━━━━\u001b[0m \u001b[32m797.2/797.2 MB\u001b[0m \u001b[31m828.4 kB/s\u001b[0m eta \u001b[36m0:00:00\u001b[0m\n",
            "\u001b[2K   \u001b[90m━━━━━━━━━━━━━━━━━━━━━━━━━━━━━━━━━━━━━━━━\u001b[0m \u001b[32m410.6/410.6 MB\u001b[0m \u001b[31m1.5 MB/s\u001b[0m eta \u001b[36m0:00:00\u001b[0m\n",
            "\u001b[2K   \u001b[90m━━━━━━━━━━━━━━━━━━━━━━━━━━━━━━━━━━━━━━━━\u001b[0m \u001b[32m14.1/14.1 MB\u001b[0m \u001b[31m90.7 MB/s\u001b[0m eta \u001b[36m0:00:00\u001b[0m\n",
            "\u001b[2K   \u001b[90m━━━━━━━━━━━━━━━━━━━━━━━━━━━━━━━━━━━━━━━━\u001b[0m \u001b[32m23.7/23.7 MB\u001b[0m \u001b[31m88.5 MB/s\u001b[0m eta \u001b[36m0:00:00\u001b[0m\n",
            "\u001b[2K   \u001b[90m━━━━━━━━━━━━━━━━━━━━━━━━━━━━━━━━━━━━━━━━\u001b[0m \u001b[32m823.6/823.6 kB\u001b[0m \u001b[31m54.2 MB/s\u001b[0m eta \u001b[36m0:00:00\u001b[0m\n",
            "\u001b[2K   \u001b[90m━━━━━━━━━━━━━━━━━━━━━━━━━━━━━━━━━━━━━━━━\u001b[0m \u001b[32m664.8/664.8 MB\u001b[0m \u001b[31m2.6 MB/s\u001b[0m eta \u001b[36m0:00:00\u001b[0m\n",
            "\u001b[2K   \u001b[90m━━━━━━━━━━━━━━━━━━━━━━━━━━━━━━━━━━━━━━━━\u001b[0m \u001b[32m121.6/121.6 MB\u001b[0m \u001b[31m7.6 MB/s\u001b[0m eta \u001b[36m0:00:00\u001b[0m\n",
            "\u001b[2K   \u001b[90m━━━━━━━━━━━━━━━━━━━━━━━━━━━━━━━━━━━━━━━━\u001b[0m \u001b[32m56.5/56.5 MB\u001b[0m \u001b[31m12.4 MB/s\u001b[0m eta \u001b[36m0:00:00\u001b[0m\n",
            "\u001b[2K   \u001b[90m━━━━━━━━━━━━━━━━━━━━━━━━━━━━━━━━━━━━━━━━\u001b[0m \u001b[32m124.2/124.2 MB\u001b[0m \u001b[31m7.4 MB/s\u001b[0m eta \u001b[36m0:00:00\u001b[0m\n",
            "\u001b[2K   \u001b[90m━━━━━━━━━━━━━━━━━━━━━━━━━━━━━━━━━━━━━━━━\u001b[0m \u001b[32m196.0/196.0 MB\u001b[0m \u001b[31m4.9 MB/s\u001b[0m eta \u001b[36m0:00:00\u001b[0m\n",
            "\u001b[2K   \u001b[90m━━━━━━━━━━━━━━━━━━━━━━━━━━━━━━━━━━━━━━━━\u001b[0m \u001b[32m176.2/176.2 MB\u001b[0m \u001b[31m6.6 MB/s\u001b[0m eta \u001b[36m0:00:00\u001b[0m\n",
            "\u001b[2K   \u001b[90m━━━━━━━━━━━━━━━━━━━━━━━━━━━━━━━━━━━━━━━━\u001b[0m \u001b[32m99.1/99.1 kB\u001b[0m \u001b[31m8.6 MB/s\u001b[0m eta \u001b[36m0:00:00\u001b[0m\n",
            "\u001b[2K   \u001b[90m━━━━━━━━━━━━━━━━━━━━━━━━━━━━━━━━━━━━━━━━\u001b[0m \u001b[32m209.4/209.4 MB\u001b[0m \u001b[31m5.9 MB/s\u001b[0m eta \u001b[36m0:00:00\u001b[0m\n",
            "\u001b[2K   \u001b[90m━━━━━━━━━━━━━━━━━━━━━━━━━━━━━━━━━━━━━━━━\u001b[0m \u001b[32m19.7/19.7 MB\u001b[0m \u001b[31m95.3 MB/s\u001b[0m eta \u001b[36m0:00:00\u001b[0m\n",
            "\u001b[?25h\u001b[31mERROR: pip's dependency resolver does not currently take into account all the packages that are installed. This behaviour is the source of the following dependency conflicts.\n",
            "torchaudio 2.4.1+cu121 requires torch==2.4.1, but you have torch 2.4.0 which is incompatible.\n",
            "torchvision 0.19.1+cu121 requires torch==2.4.1, but you have torch 2.4.0 which is incompatible.\u001b[0m\u001b[31m\n",
            "\u001b[0m"
          ]
        }
      ],
      "source": [
        "!pip install -q numpy==1.26.4\n",
        "!pip install -q matplotlib==3.7.1\n",
        "!pip install -q qiskit==0.46.2\n",
        "!pip install -q pennylane==0.37\n",
        "!pip install -q torch==2.4\n",
        "\n",
        "import csv\n",
        "import math\n",
        "\n",
        "import matplotlib.pyplot as plt\n",
        "import numpy as np\n",
        "import torch\n",
        "from numpy.linalg import eig, matrix_rank\n",
        "from qiskit import quantum_info\n",
        "from torch.autograd import Variable\n",
        "import pennylane as qml\n",
        "\n",
        "np.random.seed(40)"
      ]
    },
    {
      "cell_type": "markdown",
      "metadata": {
        "id": "zSuRJB72mT_z"
      },
      "source": [
        "## Entropies"
      ]
    },
    {
      "cell_type": "markdown",
      "metadata": {
        "id": "Kbxgc8R8nMd3"
      },
      "source": [
        "von Neumann entropy: $S(\\rho) = -\\rho \\log(\\rho)$\n",
        "\n",
        "Rényi entropy: $S_\\alpha(\\rho) = \\frac{1}{1 - \\alpha} \\log \\textrm{Tr}(\\rho^\\alpha)$\n",
        "\n",
        "Tsallis entropy: $S_q(\\rho) = \\frac{1}{1 - q} (\\textrm{Tr}(\\rho^q) - 1)$"
      ]
    },
    {
      "cell_type": "code",
      "execution_count": 20,
      "metadata": {
        "id": "4sqFRUHll6ft"
      },
      "outputs": [],
      "source": [
        "def von_neumann_entropy(matrix):\n",
        "    \"\"\"\n",
        "    Calculate the von Neumann entropy of a density matrix.\n",
        "\n",
        "    Args:\n",
        "    matrix (numpy.ndarray): The density matrix of the quantum state,\n",
        "                            which is a positive semi-definite Hermitian matrix.\n",
        "\n",
        "    Returns:\n",
        "        float: The calculated von Neumann entropy of the given density matrix.\n",
        "    \"\"\"\n",
        "\n",
        "    # Calculate the eigenvalues of the density matrix\n",
        "    eigs, _ = np.linalg.eig(matrix)\n",
        "    eigs = np.real(eigs)\n",
        "    entropy = 0\n",
        "\n",
        "    # Calculate the von Neumann entropy\n",
        "    for p in eigs:\n",
        "        if p < 1e-10:  # Avoid logarithm of zero or negative eigenvalues\n",
        "            continue\n",
        "        entropy += -p * math.log(p)\n",
        "\n",
        "    return entropy\n",
        "\n",
        "\n",
        "def renyi_entropy(matrix, alpha):\n",
        "    \"\"\"\n",
        "    Calculate the Rényi entropy of a density matrix for a given order alpha.\n",
        "\n",
        "    Args:\n",
        "        matrix (numpy.ndarray): The density matrix of the quantum state,\n",
        "                                which is a positive semi-definite Hermitian matrix.\n",
        "        alpha (float): The order of the Rényi entropy.\n",
        "                       For alpha = 1, the Rényi entropy reduces to the Shannon entropy.\n",
        "\n",
        "    Returns:\n",
        "        float: The calculated Rényi entropy of the given density matrix.\n",
        "    \"\"\"\n",
        "    if alpha == 1:\n",
        "        print(\"alpha should not be 1\")\n",
        "        return None\n",
        "\n",
        "    # Calculate the eigenvalues of the density matrix\n",
        "    eigs, _ = np.linalg.eig(matrix)\n",
        "    eigs = np.real(eigs)\n",
        "    power_trace = 0\n",
        "\n",
        "    # Calculate the Rényi entropy\n",
        "    for p in eigs:\n",
        "        if p < 1e-10:  # Avoid logarithm of zero or negative eigenvalues\n",
        "            continue\n",
        "        power_trace += p ** alpha\n",
        "\n",
        "    return math.log(power_trace) / (1 - alpha)\n",
        "\n",
        "\n",
        "def tsallis_entropy(matrix, q):\n",
        "    \"\"\"\n",
        "    Calculate the Tsallis entropy of a density matrix for a given order q.\n",
        "\n",
        "    Args:\n",
        "        matrix (numpy.ndarray): The density matrix of the quantum state,\n",
        "                                which is a positive semi-definite Hermitian matrix.\n",
        "        q (float): The order of the Tsallis entropy\n",
        "\n",
        "    Returns:\n",
        "        float: The calculated Tsallis entropy of the given density matrix.\n",
        "    \"\"\"\n",
        "    if q == 1:\n",
        "        print(\"q should not be 1\")\n",
        "        return None\n",
        "\n",
        "    # Calculate the eigenvalues of the density matrix\n",
        "    eigs, _ = np.linalg.eig(matrix)\n",
        "    eigs = np.real(eigs)\n",
        "    power_trace = 0\n",
        "\n",
        "    # Calculate the Tsallis entropy\n",
        "    for p in eigs:\n",
        "        if p < 1e-10:  # Ignore very small or negative eigenvalues\n",
        "            continue\n",
        "        power_trace += p ** q\n",
        "\n",
        "    return (power_trace - 1) / (1 - q)"
      ]
    },
    {
      "cell_type": "markdown",
      "metadata": {
        "id": "Bv6TVepwq_if"
      },
      "source": [
        "## Preparing States $\\rho_{AB}$"
      ]
    },
    {
      "cell_type": "markdown",
      "metadata": {
        "id": "H96MOOqE6wAT"
      },
      "source": [
        "To prepare a density matrix $\\rho_{AB}$ of random (probably mixed) state of ```num_qubits```, we prepare a pure state of ```unitary_qubits``` and calculate partial trace."
      ]
    },
    {
      "cell_type": "code",
      "execution_count": 28,
      "metadata": {
        "id": "LRamaL56rHRA"
      },
      "outputs": [],
      "source": [
        "num_qubits = 5\n",
        "measure_qubits = 1\n",
        "log_rank = 3\n",
        "unitary_qubits = num_qubits + log_rank\n",
        "rank = 2 ** log_rank\n",
        "\n",
        "unitary = None\n",
        "input_state = None\n",
        "\n",
        "# Generating random pure state consisting of \"unitary_qubits\".\n",
        "unitary = quantum_info.random_unitary(2 ** (unitary_qubits), seed=10).data\n",
        "\n",
        "dev = qml.device(\"default.qubit\", wires=unitary_qubits)\n",
        "mixed_dev = qml.device(\"default.mixed\", wires=num_qubits)\n",
        "\n",
        "def init(unitary):\n",
        "    qml.QubitUnitary(unitary, wires=[i for i in range(unitary_qubits)])\n",
        "\n",
        "@qml.qnode(dev)\n",
        "def density_matrix(unitary, a, b):\n",
        "    init(unitary)\n",
        "    return qml.density_matrix(wires=[i for i in range(a, b)])  # Calculate partial trace\n",
        "\n",
        "# Get partial trace to get a mixed state consisting of \"num_qubits\".\n",
        "input_state = np.array(density_matrix(unitary, 0, num_qubits))  # Input state rho_AB."
      ]
    },
    {
      "cell_type": "markdown",
      "metadata": {
        "id": "Bvi7BUZJ5WGR"
      },
      "source": [
        "## Circuit Ansatz"
      ]
    },
    {
      "cell_type": "markdown",
      "metadata": {
        "id": "1jfXevtBUft8"
      },
      "source": [
        "An ansatz to optimize consists of several layers, where each layer has 3 rotation gate for X, Y, Z direction and CNOT gates between the adjacent qubits. **However, to avoid barren plateaus the depth of the circuit is limited to constant here.** The code below implements the following structure."
      ]
    },
    {
      "cell_type": "markdown",
      "metadata": {
        "id": "B8cFDJXDbUTd"
      },
      "source": [
        "![image.png](data:image/png;base64,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)"
      ]
    },
    {
      "cell_type": "code",
      "execution_count": 29,
      "metadata": {
        "colab": {
          "base_uri": "https://localhost:8080/"
        },
        "id": "uLGmgqM95BNr",
        "outputId": "81e3202a-9ef4-4d88-a7df-0a31d13b401e"
      },
      "outputs": [
        {
          "output_type": "stream",
          "name": "stdout",
          "text": [
            "(256, 256)\n",
            "(32, 32)\n"
          ]
        }
      ],
      "source": [
        "print(unitary.shape)  # (2 ** unitary_qubits, 2 ** unitary_qubits)\n",
        "print(input_state.shape)   # (2 ** num_qubits, 2 ** num_qubits)"
      ]
    },
    {
      "cell_type": "code",
      "execution_count": 30,
      "metadata": {
        "id": "Bda68y2tX3kv"
      },
      "outputs": [],
      "source": [
        "def layer(params, j, n_qubits):\n",
        "    \"\"\"\n",
        "    A layer of DEQNN.\n",
        "    The detailed structure of a layer is described above.\n",
        "    \"\"\"\n",
        "\n",
        "    for i in range(n_qubits):\n",
        "        qml.RX(params[i, j, 0], wires=i)\n",
        "        qml.RY(params[i, j, 1], wires=i)\n",
        "        qml.RZ(params[i, j, 2], wires=i)\n",
        "    for i in range(0, n_qubits, 2):\n",
        "        qml.CZ(wires=[i, (i + 1) % n_qubits])\n",
        "    for i in range(n_qubits):\n",
        "        qml.RX(params[i, j, 0], wires=i)\n",
        "        qml.RY(params[i, j, 1], wires=i)\n",
        "        qml.RZ(params[i, j, 2], wires=i)\n",
        "    for i in range(1, n_qubits, 2):\n",
        "        qml.CZ(wires=[i, (i + 1) % n_qubits])\n",
        "\n",
        "\n",
        "def DEQNN(params, num_layers):\n",
        "    \"\"\"\n",
        "    Run DEQNN, which is applying layers sequentially.\n",
        "    The detailed structure of DEQNN is described above.\n",
        "    \"\"\"\n",
        "    for j in range(num_layers):\n",
        "        layer(params, j, num_qubits)\n",
        "\n",
        "\n",
        "@qml.qnode(dev)\n",
        "def circuit_matrix(U, params, num_layers, a, b):\n",
        "    \"\"\"\n",
        "    Given an initial unitary, run DEQNN and returns a density matrix from a-th qubit to (b-1)-th qubit.\n",
        "    \"\"\"\n",
        "\n",
        "    # Prepare initial pure unitary\n",
        "    init(U)\n",
        "\n",
        "    # Run DEQNN\n",
        "    DEQNN(params, num_layers)\n",
        "\n",
        "    # Return density matrix of the subsystem\n",
        "    return qml.density_matrix(wires=[i for i in range(a, b)])\n",
        "\n",
        "\n",
        "@qml.qnode(mixed_dev, interface=\"torch\")\n",
        "def loss_fn(matrix, params, num_layers):\n",
        "    \"\"\"\n",
        "    A loss function of DEQNN,\n",
        "    Given a density matrix, run the circuit and conduct observation, which is projection to the |0> basis.\n",
        "    It gives the probability of observing 0 on the \"measure_qubits\".\n",
        "    \"\"\"\n",
        "\n",
        "    # Prepare initial density matrix\n",
        "    qml.QubitDensityMatrix(matrix, wires=[i for i in range(num_qubits)])\n",
        "\n",
        "    # Run DEQNN\n",
        "    DEQNN(params, num_layers)\n",
        "\n",
        "    # Project to |0> basis to get the probability of getting 0 for all measure_qubits.\n",
        "    observable = torch.zeros([2 ** measure_qubits, 2 ** measure_qubits])\n",
        "    observable[0][0] = 1.0\n",
        "\n",
        "    return qml.expval(qml.Hermitian(observable, wires=range(measure_qubits)))"
      ]
    },
    {
      "cell_type": "markdown",
      "metadata": {
        "id": "N2-cojxhtPsZ"
      },
      "source": [
        "Note that our loss function of DEQNN is independent to the property we want to estimate."
      ]
    },
    {
      "cell_type": "markdown",
      "metadata": {
        "id": "XlHW-EOie_UC"
      },
      "source": [
        "## Training DEQNN"
      ]
    },
    {
      "cell_type": "markdown",
      "metadata": {
        "id": "0GN11CmPmoTl"
      },
      "source": [
        "In our implementation of DEQNN, we use 40 layers."
      ]
    },
    {
      "cell_type": "code",
      "execution_count": 31,
      "metadata": {
        "id": "qNONBdGBkyDV"
      },
      "outputs": [],
      "source": [
        "# Entropies to estimate\n",
        "alpha = 1.5  # Renyi entropy\n",
        "q = 1.5  # Tsallis entropy\n",
        "\n",
        "# Parameters of DEQNN\n",
        "num_layers = 20\n",
        "qnn_params = np.random.normal(0, 2 * np.pi, (num_qubits, num_layers, 3))\n",
        "qnn_params = Variable(torch.tensor(qnn_params), requires_grad=True)"
      ]
    },
    {
      "cell_type": "markdown",
      "metadata": {
        "id": "XBgvtLjQmvg0"
      },
      "source": [
        "First, we calculate the entropies of original state (ground-truth) and the entropies of the state after applying DEQNN before any optimization."
      ]
    },
    {
      "cell_type": "code",
      "execution_count": 32,
      "metadata": {
        "colab": {
          "base_uri": "https://localhost:8080/"
        },
        "id": "88cAXbPKnvwm",
        "outputId": "81fcc15b-ffdc-4a6f-d7ce-9534e62a647b"
      },
      "outputs": [
        {
          "output_type": "stream",
          "name": "stdout",
          "text": [
            "Ground-truth von Neumann entropy: 1.9510039534579409\n",
            "Ground-truth Renyi entropy where alpha = 1.5: 1.8983519862554605\n",
            "Ground-truth Tsallis entropy where q = 1.5: 1.2258803359043733\n"
          ]
        },
        {
          "output_type": "execute_result",
          "data": {
            "text/plain": [
              "6"
            ]
          },
          "metadata": {},
          "execution_count": 32
        }
      ],
      "source": [
        "# Ground truth\n",
        "von_neumann_gt = von_neumann_entropy(input_state)\n",
        "renyi_gt = renyi_entropy(input_state, alpha)\n",
        "tsallis_gt = tsallis_entropy(input_state, q)\n",
        "\n",
        "print(f\"Ground-truth von Neumann entropy: {von_neumann_gt}\")\n",
        "print(f\"Ground-truth Renyi entropy where alpha = {alpha}: {renyi_gt}\")\n",
        "print(f\"Ground-truth Tsallis entropy where q = {q}: {tsallis_gt}\")\n",
        "\n",
        "f = open(f\"Entropies_qubits_{num_qubits}_layers_{num_layers}.csv\", \"w\", newline=\"\")\n",
        "wr = csv.writer(f)\n",
        "wr.writerow([\"\", \"\", \"von_neumann_gt\", \"renyi_gt\", \"tsallis_gt\"])\n",
        "wr.writerow([\"\", \"\", von_neumann_gt, renyi_gt, tsallis_gt])\n",
        "wr.writerow([\"\", \"\", \"\", \"\", \"\"])"
      ]
    },
    {
      "cell_type": "code",
      "execution_count": 33,
      "metadata": {
        "colab": {
          "base_uri": "https://localhost:8080/"
        },
        "id": "DDKn3pZioaMU",
        "outputId": "dc8b04e4-8302-4166-a0a3-657fb38cce65"
      },
      "outputs": [
        {
          "output_type": "stream",
          "name": "stdout",
          "text": [
            "Loss after 0 steps: 0.5193214656367282\n",
            "Estimated von Neumann entropy: 2.1943883133943145, error: 12.474826588895501%\n",
            "Estimated Renyi entropy where alpha = 1.5: 2.079517734833305, error: 9.543317039702298%\n",
            "Estimated Tsallis entropy where q = 1.5: 1.2929201566480786, error: 5.468708386960768%\n"
          ]
        },
        {
          "output_type": "execute_result",
          "data": {
            "text/plain": [
              "78"
            ]
          },
          "metadata": {},
          "execution_count": 33
        }
      ],
      "source": [
        "# Estimated value\n",
        "von_neumann_est = []\n",
        "renyi_est = []\n",
        "tsallis_est = []\n",
        "\n",
        "m = circuit_matrix(unitary, qnn_params, num_layers, measure_qubits, num_qubits).detach().numpy()\n",
        "\n",
        "# Calculate each entropies\n",
        "von_neumann_est.append(von_neumann_entropy(m))\n",
        "renyi_est.append(renyi_entropy(m, alpha))\n",
        "tsallis_est.append(tsallis_entropy(m, q))\n",
        "\n",
        "# Calculate loss\n",
        "purity = loss_fn(input_state, qnn_params, num_layers)\n",
        "loss = 1 - purity\n",
        "\n",
        "print(f'Loss after 0 steps: {loss}')\n",
        "print(f\"Estimated von Neumann entropy: {von_neumann_est[-1]}, error: {(von_neumann_est[-1] - von_neumann_gt) / von_neumann_gt * 100}%\")\n",
        "print(f\"Estimated Renyi entropy where alpha = {alpha}: {renyi_est[-1]}, error: {(renyi_est[-1] - renyi_gt) / renyi_gt * 100}%\")\n",
        "print(f\"Estimated Tsallis entropy where q = {q}: {tsallis_est[-1]}, error: {(tsallis_est[-1] - tsallis_gt) / tsallis_gt * 100}%\")\n",
        "\n",
        "wr.writerow([\"Step\", \"Loss\", \"von_neumann_est\", \"renyi_est\", \"tsallis_est\"])\n",
        "wr.writerow([0, loss.detach().numpy(), von_neumann_est[-1], renyi_est[-1], tsallis_est[-1]])"
      ]
    },
    {
      "cell_type": "markdown",
      "metadata": {
        "id": "g9kFzRqrrvb-"
      },
      "source": [
        "Now, optimize DEQNN to preserve each entropies."
      ]
    },
    {
      "cell_type": "code",
      "execution_count": null,
      "metadata": {
        "colab": {
          "base_uri": "https://localhost:8080/"
        },
        "id": "dggx32dqdUsL",
        "outputId": "a1cbbcd1-d573-4146-aba0-28223203dd29"
      },
      "outputs": [
        {
          "output_type": "stream",
          "name": "stdout",
          "text": [
            "Loss after 10 steps: 0.21533461419843913\n",
            "Estimated von Neumann entropy: 2.143205989094256, error: 9.851442653186732%\n",
            "Estimated Renyi entropy where alpha = 1.5: 2.0185430331724534, error: 6.3313362214808375%\n",
            "Estimated Tsallis entropy where q = 1.5: 1.2710311925521385, error: 3.683137360585516%\n",
            "\n",
            "Loss after 20 steps: 0.12714230239561708\n",
            "Estimated von Neumann entropy: 2.121440735746746, error: 8.73585017532766%\n",
            "Estimated Renyi entropy where alpha = 1.5: 2.000528874050094, error: 5.382399498850564%\n",
            "Estimated Tsallis entropy where q = 1.5: 1.2644356538246977, error: 3.145112682787333%\n",
            "\n",
            "Loss after 30 steps: 0.07897573207794117\n",
            "Estimated von Neumann entropy: 2.069226596314502, error: 6.059579871533537%\n",
            "Estimated Renyi entropy where alpha = 1.5: 1.9634903507753947, error: 3.4313112105422006%\n",
            "Estimated Tsallis entropy where q = 1.5: 1.2506866272853294, error: 2.0235491715148277%\n",
            "\n",
            "Loss after 40 steps: 0.05233995357034571\n",
            "Estimated von Neumann entropy: 2.0470553934654547, error: 4.923180183067964%\n",
            "Estimated Renyi entropy where alpha = 1.5: 1.9520347371511262, error: 2.82786075945568%\n",
            "Estimated Tsallis entropy where q = 1.5: 1.2463823898922368, error: 1.6724351788169012%\n",
            "\n",
            "Loss after 50 steps: 0.03776286562797582\n",
            "Estimated von Neumann entropy: 2.0284797552634597, error: 3.971073542326834%\n",
            "Estimated Renyi entropy where alpha = 1.5: 1.9382230522282535, error: 2.1002989046009066%\n",
            "Estimated Tsallis entropy where q = 1.5: 1.24116001370191, error: 1.2464249038030677%\n",
            "\n",
            "Loss after 60 steps: 0.029528121994176093\n",
            "Estimated von Neumann entropy: 2.012826211466679, error: 3.1687407859509866%\n",
            "Estimated Renyi entropy where alpha = 1.5: 1.9277273916119932, error: 1.5474161572362732%\n",
            "Estimated Tsallis entropy where q = 1.5: 1.2371672827988924, error: 0.9207217510502266%\n",
            "\n",
            "Loss after 70 steps: 0.0236705135167532\n",
            "Estimated von Neumann entropy: 1.9997270970402812, error: 2.4973369990349776%\n",
            "Estimated Renyi entropy where alpha = 1.5: 1.9188397186342494, error: 1.0792378087480685%\n",
            "Estimated Tsallis entropy where q = 1.5: 1.233769835676517, error: 0.6435782956191523%\n",
            "\n"
          ]
        }
      ],
      "source": [
        "optimizer = torch.optim.Adam([qnn_params], lr=0.01)\n",
        "scheduler = torch.optim.lr_scheduler.StepLR(optimizer, step_size=10, gamma=0.9)\n",
        "\n",
        "steps = 300\n",
        "for n in range(steps):\n",
        "    optimizer.zero_grad()\n",
        "    purity = loss_fn(input_state, qnn_params, num_layers)\n",
        "    loss = 1 - purity\n",
        "    loss.backward()\n",
        "    optimizer.step()\n",
        "\n",
        "    # Run DEQNN and get the resulting density matrix\n",
        "    m = circuit_matrix(unitary, qnn_params, num_layers, measure_qubits, num_qubits).detach().numpy()\n",
        "\n",
        "    # Calculate entropies\n",
        "    von_neumann_est.append(von_neumann_entropy(m))\n",
        "    renyi_est.append(renyi_entropy(m, alpha))\n",
        "    tsallis_est.append(tsallis_entropy(m, q))\n",
        "\n",
        "    wr.writerow([n + 1, loss.detach().numpy(), von_neumann_est[-1], renyi_est[-1], tsallis_est[-1]])\n",
        "\n",
        "    # Keep track of progress every 10 steps\n",
        "    if n % 10 == 9 or n == steps - 1:\n",
        "        print(f'Loss after {n + 1} steps: {loss}')\n",
        "        print(f\"Estimated von Neumann entropy: {von_neumann_est[-1]}, error: {(von_neumann_est[-1] - von_neumann_gt) / von_neumann_gt * 100}%\")\n",
        "        print(f\"Estimated Renyi entropy where alpha = {alpha}: {renyi_est[-1]}, error: {(renyi_est[-1] - renyi_gt) / renyi_gt * 100}%\")\n",
        "        print(f\"Estimated Tsallis entropy where q = {q}: {tsallis_est[-1]}, error: {(tsallis_est[-1] - tsallis_gt) / tsallis_gt * 100}%\")\n",
        "        print()\n",
        "\n",
        "f.close()"
      ]
    }
  ],
  "metadata": {
    "colab": {
      "provenance": [],
      "gpuType": "T4"
    },
    "kernelspec": {
      "display_name": "Python 3",
      "name": "python3"
    },
    "language_info": {
      "name": "python"
    },
    "accelerator": "GPU"
  },
  "nbformat": 4,
  "nbformat_minor": 0
}